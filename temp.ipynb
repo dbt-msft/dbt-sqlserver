{
 "cells": [
  {
   "cell_type": "code",
   "execution_count": 9,
   "metadata": {},
   "outputs": [],
   "source": [
    "import os\n",
    "import time\n",
    "\n",
    "import pyodbc "
   ]
  },
  {
   "cell_type": "code",
   "execution_count": 10,
   "metadata": {},
   "outputs": [],
   "source": [
    "sql_server_name = os.getenv(\"DBT_AZURESQL_SERVER\")\n",
    "sql_server_port = 1433\n",
    "database_name = os.getenv(\"DBT_AZURESQL_DB\")\n",
    "username = os.getenv(\"DBT_AZURESQL_UID\")\n",
    "password = os.getenv(\"DBT_AZURESQL_PWD\")\n",
    "driver = f\"ODBC Driver {os.getenv('MSODBC_VERSION')} for SQL Server\"\n"
   ]
  },
  {
   "cell_type": "markdown",
   "metadata": {},
   "source": []
  },
  {
   "cell_type": "code",
   "execution_count": 11,
   "metadata": {},
   "outputs": [],
   "source": [
    "con_str = [\n",
    "    f\"DRIVER={{{driver}}}\",\n",
    "    f\"SERVER={sql_server_name},{sql_server_port}\",\n",
    "    f\"Database={database_name}\",\n",
    "    \"Encrypt=Yes\",\n",
    "    f\"UID={{{username}}}\",\n",
    "    f\"PWD={{{password}}}\",\n",
    "]"
   ]
  },
  {
   "cell_type": "code",
   "execution_count": 16,
   "metadata": {},
   "outputs": [
    {
     "name": "stdout",
     "output_type": "stream",
     "text": [
      "Connecting with the following connection string:\n",
      "DRIVER={ODBC Driver 18 for SQL Server};SERVER=dbtmsft-azsql-server.database.windows.net,1433;Database=dbtmsft-azsql-cidb;Encrypt=Yes;UID={dbtmsftciadmin};PWD={***}\n"
     ]
    }
   ],
   "source": [
    "con_str_concat = \";\".join(con_str)\n",
    "print(\"Connecting with the following connection string:\")\n",
    "print(con_str_concat.replace(password, \"***\"))"
   ]
  },
  {
   "cell_type": "code",
   "execution_count": null,
   "metadata": {},
   "outputs": [],
   "source": []
  },
  {
   "cell_type": "code",
   "execution_count": 5,
   "metadata": {},
   "outputs": [
    {
     "name": "stdout",
     "output_type": "stream",
     "text": [
      "Connecting with the following connection string:\n",
      "DRIVER={ODBC Driver 18 for SQL Server};SERVER=dbtmsft-azsql-server.database.windows.net,1433;Database=dbtmsft-azsql-cidb;Encrypt=Yes;UID={dbtmsftciadmin};PWD={***}\n"
     ]
    }
   ],
   "source": [
    "\n",
    "\n",
    "\n",
    "    connected = False\n",
    "    attempts = 0\n",
    "    while not connected and attempts < 20:\n",
    "        try:\n",
    "            attempts += 1\n",
    "            handle = pyodbc.connect(con_str_concat, autocommit=True)\n",
    "            cursor = handle.cursor()\n",
    "            cursor.execute(\"SELECT 1\")\n",
    "            connected = True\n",
    "        except pyodbc.Error as e:\n",
    "            print(\"Failed to connect to SQL Server. Retrying...\")\n",
    "            print(e)\n",
    "            time.sleep(10)"
   ]
  },
  {
   "cell_type": "code",
   "execution_count": 6,
   "metadata": {},
   "outputs": [],
   "source": [
    "handle = pyodbc.connect(con_str_concat, autocommit=True)\n",
    "cursor = handle.cursor()"
   ]
  },
  {
   "cell_type": "code",
   "execution_count": 8,
   "metadata": {},
   "outputs": [
    {
     "name": "stdout",
     "output_type": "stream",
     "text": [
      "(1,)\n"
     ]
    }
   ],
   "source": [
    "cursor.execute(\"SELECT 1\")\n",
    "row = cursor.fetchone()\n",
    "if row:\n",
    "    print(row)"
   ]
  },
  {
   "cell_type": "code",
   "execution_count": null,
   "metadata": {},
   "outputs": [],
   "source": []
  }
 ],
 "metadata": {
  "kernelspec": {
   "display_name": "devtsql",
   "language": "python",
   "name": "python3"
  },
  "language_info": {
   "codemirror_mode": {
    "name": "ipython",
    "version": 3
   },
   "file_extension": ".py",
   "mimetype": "text/x-python",
   "name": "python",
   "nbconvert_exporter": "python",
   "pygments_lexer": "ipython3",
   "version": "3.9.16"
  },
  "orig_nbformat": 4
 },
 "nbformat": 4,
 "nbformat_minor": 2
}
